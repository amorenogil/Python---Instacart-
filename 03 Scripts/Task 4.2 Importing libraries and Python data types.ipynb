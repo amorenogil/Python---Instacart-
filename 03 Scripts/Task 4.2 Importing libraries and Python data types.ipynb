{
 "cells": [
  {
   "cell_type": "markdown",
   "id": "fda77ba7",
   "metadata": {},
   "source": [
    "# 01. Importing libraries"
   ]
  },
  {
   "cell_type": "markdown",
   "id": "f0e4e3e6",
   "metadata": {},
   "source": []
  },
  {
   "cell_type": "code",
   "execution_count": 1,
   "id": "44e274d7",
   "metadata": {},
   "outputs": [],
   "source": [
    "# Import libraries\n",
    "import pandas as pd\n",
    "import numpy as np\n",
    "import os"
   ]
  },
  {
   "cell_type": "markdown",
   "id": "0e59d807",
   "metadata": {},
   "source": [
    "# 02. Python data types"
   ]
  },
  {
   "cell_type": "code",
   "execution_count": null,
   "id": "ee093edd",
   "metadata": {},
   "outputs": [],
   "source": [
    "# Code 3 different ways of reaching a result of 100 by adding or subtracting numeric variables"
   ]
  },
  {
   "cell_type": "code",
   "execution_count": 2,
   "id": "5d2792b3",
   "metadata": {},
   "outputs": [],
   "source": [
    "x=25"
   ]
  },
  {
   "cell_type": "code",
   "execution_count": 3,
   "id": "400ca154",
   "metadata": {},
   "outputs": [],
   "source": [
    "y=50"
   ]
  },
  {
   "cell_type": "code",
   "execution_count": 4,
   "id": "77d45cbd",
   "metadata": {},
   "outputs": [
    {
     "data": {
      "text/plain": [
       "100"
      ]
     },
     "execution_count": 4,
     "metadata": {},
     "output_type": "execute_result"
    }
   ],
   "source": [
    "x+x+x+x"
   ]
  },
  {
   "cell_type": "code",
   "execution_count": 5,
   "id": "789c3d9c",
   "metadata": {},
   "outputs": [
    {
     "data": {
      "text/plain": [
       "100"
      ]
     },
     "execution_count": 5,
     "metadata": {},
     "output_type": "execute_result"
    }
   ],
   "source": [
    "y+x+x"
   ]
  },
  {
   "cell_type": "code",
   "execution_count": 6,
   "id": "a6002a25",
   "metadata": {},
   "outputs": [
    {
     "data": {
      "text/plain": [
       "100"
      ]
     },
     "execution_count": 6,
     "metadata": {},
     "output_type": "execute_result"
    }
   ],
   "source": [
    "y*2"
   ]
  },
  {
   "cell_type": "code",
   "execution_count": 7,
   "id": "2a707f61",
   "metadata": {},
   "outputs": [],
   "source": [
    "# Code 2 floating-point variables and divide them by each other"
   ]
  },
  {
   "cell_type": "code",
   "execution_count": 8,
   "id": "a4d7b8d6",
   "metadata": {},
   "outputs": [],
   "source": [
    "u=33.532"
   ]
  },
  {
   "cell_type": "code",
   "execution_count": 9,
   "id": "451b75ae",
   "metadata": {},
   "outputs": [],
   "source": [
    "z=5645.345"
   ]
  },
  {
   "cell_type": "code",
   "execution_count": 10,
   "id": "fe3cf409",
   "metadata": {},
   "outputs": [
    {
     "data": {
      "text/plain": [
       "168.35694262197308"
      ]
     },
     "execution_count": 10,
     "metadata": {},
     "output_type": "execute_result"
    }
   ],
   "source": [
    "z/u"
   ]
  },
  {
   "cell_type": "code",
   "execution_count": 11,
   "id": "3d686abc",
   "metadata": {},
   "outputs": [],
   "source": [
    "#Construct a short word made of separate strings"
   ]
  },
  {
   "cell_type": "code",
   "execution_count": 13,
   "id": "44cda19c",
   "metadata": {},
   "outputs": [],
   "source": [
    "a='hip'"
   ]
  },
  {
   "cell_type": "code",
   "execution_count": 14,
   "id": "9a100d47",
   "metadata": {},
   "outputs": [],
   "source": [
    "b='po'"
   ]
  },
  {
   "cell_type": "code",
   "execution_count": 15,
   "id": "8f787062",
   "metadata": {},
   "outputs": [],
   "source": [
    "c='tamus'"
   ]
  },
  {
   "cell_type": "code",
   "execution_count": 18,
   "id": "9476a307",
   "metadata": {},
   "outputs": [
    {
     "data": {
      "text/plain": [
       "'hippopotamus'"
      ]
     },
     "execution_count": 18,
     "metadata": {},
     "output_type": "execute_result"
    }
   ],
   "source": [
    "a+(b*2)+c"
   ]
  },
  {
   "cell_type": "code",
   "execution_count": 17,
   "id": "64ea97e5",
   "metadata": {},
   "outputs": [],
   "source": [
    "# Construct 2 short sentences made of separate strings."
   ]
  },
  {
   "cell_type": "code",
   "execution_count": 25,
   "id": "813091ce",
   "metadata": {},
   "outputs": [],
   "source": [
    "d='how '"
   ]
  },
  {
   "cell_type": "code",
   "execution_count": 26,
   "id": "02249241",
   "metadata": {},
   "outputs": [],
   "source": [
    "e='are '"
   ]
  },
  {
   "cell_type": "code",
   "execution_count": 27,
   "id": "45c213bd",
   "metadata": {},
   "outputs": [],
   "source": [
    "f='you?'"
   ]
  },
  {
   "cell_type": "code",
   "execution_count": 28,
   "id": "7496acb3",
   "metadata": {},
   "outputs": [
    {
     "data": {
      "text/plain": [
       "'how are you?'"
      ]
     },
     "execution_count": 28,
     "metadata": {},
     "output_type": "execute_result"
    }
   ],
   "source": [
    "d + e + f"
   ]
  },
  {
   "cell_type": "code",
   "execution_count": 32,
   "id": "c54aaacc",
   "metadata": {},
   "outputs": [],
   "source": [
    "g='Luke, '"
   ]
  },
  {
   "cell_type": "code",
   "execution_count": 30,
   "id": "611465a9",
   "metadata": {},
   "outputs": [],
   "source": [
    "h= 'I am '"
   ]
  },
  {
   "cell_type": "code",
   "execution_count": 31,
   "id": "a4bba73f",
   "metadata": {},
   "outputs": [],
   "source": [
    "i= 'your '"
   ]
  },
  {
   "cell_type": "code",
   "execution_count": 37,
   "id": "4c8f11b7",
   "metadata": {},
   "outputs": [],
   "source": [
    "j= 'father. '"
   ]
  },
  {
   "cell_type": "code",
   "execution_count": 38,
   "id": "c3baf906",
   "metadata": {},
   "outputs": [
    {
     "data": {
      "text/plain": [
       "'Luke, I am your father. '"
      ]
     },
     "execution_count": 38,
     "metadata": {},
     "output_type": "execute_result"
    }
   ],
   "source": [
    "g+h+i+j"
   ]
  },
  {
   "cell_type": "code",
   "execution_count": 35,
   "id": "f5661821",
   "metadata": {},
   "outputs": [],
   "source": [
    "#At the bottom of your file, include a command that makes a string appear 100 times"
   ]
  },
  {
   "cell_type": "code",
   "execution_count": 39,
   "id": "cac66e6a",
   "metadata": {},
   "outputs": [
    {
     "data": {
      "text/plain": [
       "'Luke, I am your father. Luke, I am your father. Luke, I am your father. Luke, I am your father. Luke, I am your father. Luke, I am your father. Luke, I am your father. Luke, I am your father. Luke, I am your father. Luke, I am your father. Luke, I am your father. Luke, I am your father. Luke, I am your father. Luke, I am your father. Luke, I am your father. Luke, I am your father. Luke, I am your father. Luke, I am your father. Luke, I am your father. Luke, I am your father. Luke, I am your father. Luke, I am your father. Luke, I am your father. Luke, I am your father. Luke, I am your father. Luke, I am your father. Luke, I am your father. Luke, I am your father. Luke, I am your father. Luke, I am your father. Luke, I am your father. Luke, I am your father. Luke, I am your father. Luke, I am your father. Luke, I am your father. Luke, I am your father. Luke, I am your father. Luke, I am your father. Luke, I am your father. Luke, I am your father. Luke, I am your father. Luke, I am your father. Luke, I am your father. Luke, I am your father. Luke, I am your father. Luke, I am your father. Luke, I am your father. Luke, I am your father. Luke, I am your father. Luke, I am your father. Luke, I am your father. Luke, I am your father. Luke, I am your father. Luke, I am your father. Luke, I am your father. Luke, I am your father. Luke, I am your father. Luke, I am your father. Luke, I am your father. Luke, I am your father. Luke, I am your father. Luke, I am your father. Luke, I am your father. Luke, I am your father. Luke, I am your father. Luke, I am your father. Luke, I am your father. Luke, I am your father. Luke, I am your father. Luke, I am your father. Luke, I am your father. Luke, I am your father. Luke, I am your father. Luke, I am your father. Luke, I am your father. Luke, I am your father. Luke, I am your father. Luke, I am your father. Luke, I am your father. Luke, I am your father. Luke, I am your father. Luke, I am your father. Luke, I am your father. Luke, I am your father. Luke, I am your father. Luke, I am your father. Luke, I am your father. Luke, I am your father. Luke, I am your father. Luke, I am your father. Luke, I am your father. Luke, I am your father. Luke, I am your father. Luke, I am your father. Luke, I am your father. Luke, I am your father. Luke, I am your father. Luke, I am your father. Luke, I am your father. Luke, I am your father. '"
      ]
     },
     "execution_count": 39,
     "metadata": {},
     "output_type": "execute_result"
    }
   ],
   "source": [
    "(g+h+i+j)*100"
   ]
  },
  {
   "cell_type": "code",
   "execution_count": null,
   "id": "fbc33153",
   "metadata": {},
   "outputs": [],
   "source": []
  }
 ],
 "metadata": {
  "kernelspec": {
   "display_name": "Python 3 (ipykernel)",
   "language": "python",
   "name": "python3"
  },
  "language_info": {
   "codemirror_mode": {
    "name": "ipython",
    "version": 3
   },
   "file_extension": ".py",
   "mimetype": "text/x-python",
   "name": "python",
   "nbconvert_exporter": "python",
   "pygments_lexer": "ipython3",
   "version": "3.9.13"
  }
 },
 "nbformat": 4,
 "nbformat_minor": 5
}
